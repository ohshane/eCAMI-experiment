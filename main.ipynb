{
 "cells": [
  {
   "cell_type": "code",
   "execution_count": 2,
   "metadata": {},
   "outputs": [
    {
     "output_type": "stream",
     "name": "stdout",
     "text": [
      "['/home/sunmoon/workspace/eCAMI/data/dbCAN2/CAZyDB.07312018.fa']\n"
     ]
    }
   ],
   "source": [
    "from pathlib import Path\n",
    "import pprint\n",
    "import os\n",
    "\n",
    "\n",
    "__file__ = os.getcwd()\n",
    "data_paths = [Path(__file__) / 'data' / 'dbCAN2' / 'CAZyDB.07312018.fa']\n",
    "\n",
    "pprint.pprint([str(path) for path in data_paths])"
   ]
  },
  {
   "cell_type": "code",
   "execution_count": 3,
   "metadata": {
    "tags": []
   },
   "outputs": [
    {
     "output_type": "stream",
     "name": "stderr",
     "text": [
      "2134124it [00:06, 341723.84it/s]\n",
      "Protein DF shape: (1066326, 4)\n",
      "Unique protein DF shape: (636599, 4)\n"
     ]
    }
   ],
   "source": [
    "from tqdm import tqdm\n",
    "import pandas as pd\n",
    "import hashlib\n",
    "\n",
    "\n",
    "class Protein:\n",
    "    def __init__(self, name='', families='', sequence='', sequence_hash=''):\n",
    "        self.name = name\n",
    "        self.families = families\n",
    "        self.sequence = sequence\n",
    "        self.sequence_hash = sequence_hash\n",
    "        \n",
    "    def hash_sequence(self):\n",
    "        self.sequence_hash = hashlib.sha1(self.sequence.encode('ascii')).hexdigest()\n",
    "\n",
    "    def to_list(self):\n",
    "        return [self.name, self.families, self.sequence, self.sequence_hash]\n",
    "        \n",
    "    def __repr__(self):\n",
    "        return f'''\\r{self.name}\n",
    "        \\r{self.families}\n",
    "        \\r{self.sequence[:20]}...{len(self.sequence)}...{self.sequence[-5:]}\n",
    "        \\r{self.sequence_hash}'''\n",
    "\n",
    "\n",
    "proteins = []\n",
    "temp_protein = None\n",
    "\n",
    "for data_path in data_paths:\n",
    "    data_file = open(data_path, 'r')\n",
    "\n",
    "    for line in tqdm(data_file):\n",
    "        line = line.strip().upper()\n",
    "\n",
    "        if line[-1] == '|':\n",
    "            line = line[:-1]\n",
    "        \n",
    "        if line[0] == '>':\n",
    "            if temp_protein is not None:\n",
    "                temp_protein.hash_sequence()\n",
    "                proteins.append(temp_protein.to_list())\n",
    "            \n",
    "            temp_protein = Protein()\n",
    "\n",
    "            try:\n",
    "                name, families = line.split('|', 1)\n",
    "            except:\n",
    "                print(f'\\n[ERROR] format error: {line}')\n",
    "                name = line\n",
    "                families = ''\n",
    "            \n",
    "            name = name[1:]\n",
    "            \n",
    "            temp_protein.name = name\n",
    "            temp_protein.families = families\n",
    "            \n",
    "        else:\n",
    "            temp_protein.sequence += line\n",
    "\n",
    "columns = ['name', 'families', 'sequence', 'sequence_hash']\n",
    "protein_df = pd.DataFrame(proteins, columns=columns)\n",
    "print(f'Protein DF shape: {protein_df.shape}')\n",
    "\n",
    "protein_df = protein_df.drop_duplicates(subset=['sequence_hash'], keep='first')\n",
    "print(f'Unique protein DF shape: {protein_df.shape}')"
   ]
  },
  {
   "cell_type": "code",
   "execution_count": 7,
   "metadata": {
    "tags": []
   },
   "outputs": [
    {
     "output_type": "stream",
     "name": "stderr",
     "text": [
      "636599it [00:59, 10773.31it/s]JSON created\n",
      "\n"
     ]
    }
   ],
   "source": [
    "from tqdm import tqdm\n",
    "import pickle\n",
    "import json\n",
    "import operator\n",
    "import pprint\n",
    "\n",
    "\n",
    "def append_key(family_dict, family_levels, protein):\n",
    "    total_levels = len(family_levels)\n",
    "    \n",
    "    cw_dict = family_dict\n",
    "    \n",
    "    for i in range(total_levels):\n",
    "        if family_levels[i] not in cw_dict:\n",
    "            cw_dict[family_levels[i]] = {\n",
    "                '_count' : 0,\n",
    "                '_sub_count' : 1,\n",
    "                '_elements' : [],\n",
    "            }\n",
    "            \n",
    "        else:\n",
    "            cw_dict[family_levels[i]]['_sub_count'] += 1\n",
    "            \n",
    "        cw_dict = cw_dict[family_levels[i]]\n",
    "        \n",
    "        if i == total_levels-1 :\n",
    "            cw_dict['_count'] += 1\n",
    "            cw_dict['_elements'].append(protein)\n",
    "\n",
    "def append_key_count(family_dict, family_levels):\n",
    "    total_levels = len(family_levels)\n",
    "    \n",
    "    cw_dict = family_dict\n",
    "    \n",
    "    for i in range(total_levels):\n",
    "        if family_levels[i] not in cw_dict:\n",
    "            cw_dict[family_levels[i]] = {\n",
    "                '_count' : 0,\n",
    "                '_sub_count' : 1,\n",
    "            }\n",
    "            \n",
    "        else:\n",
    "            cw_dict[family_levels[i]]['_sub_count'] += 1\n",
    "            \n",
    "        cw_dict = cw_dict[family_levels[i]]\n",
    "        \n",
    "        if i == total_levels-1 :\n",
    "            cw_dict['_count'] += 1\n",
    "            \n",
    "family_dict = {}\n",
    "family_count_dict = {}\n",
    "\n",
    "for _, protein in tqdm(protein_df.iterrows()):\n",
    "    family_levels_list = [family.replace('.', '_').split('_') for family in protein['families'].split('|')]\n",
    "\n",
    "    for family_levels in family_levels_list:\n",
    "        append_key(family_dict, family_levels, Protein(name=protein['name'],\n",
    "                                                       families=family_levels_list,\n",
    "                                                       sequence=protein['sequence'],\n",
    "                                                       sequence_hash=protein['sequence_hash']))\n",
    "        append_key_count(family_count_dict, family_levels)\n",
    "\n",
    "family_dict = sorted(family_dict.items())\n",
    "family_count_dict = sorted(family_count_dict.items())\n",
    "\n",
    "out_filename = 'family_count.json'\n",
    "out_file = open(out_filename, 'w')\n",
    "json.dump(family_count_dict, out_file)\n",
    "out_file.close()\n",
    "\n",
    "print('JSON created')"
   ]
  },
  {
   "cell_type": "code",
   "execution_count": 8,
   "metadata": {},
   "outputs": [],
   "source": [
    "out_filename = 'family.pickle'\n",
    "out_file = open(out_filename, 'wb')\n",
    "pickle.dump(family_dict, out_file)\n",
    "out_file.close()"
   ]
  },
  {
   "cell_type": "code",
   "execution_count": 9,
   "metadata": {},
   "outputs": [],
   "source": [
    "out_filename = 'family_count.pickle'\n",
    "out_file = open(out_filename, 'wb')\n",
    "pickle.dump(family_count_dict, out_file)\n",
    "out_file.close()"
   ]
  },
  {
   "cell_type": "code",
   "execution_count": null,
   "metadata": {},
   "outputs": [],
   "source": []
  }
 ],
 "metadata": {
  "kernelspec": {
   "name": "python3",
   "display_name": "Python 3.8.8 64-bit ('anaconda3-2021.05': pyenv)"
  },
  "language_info": {
   "codemirror_mode": {
    "name": "ipython",
    "version": 3
   },
   "file_extension": ".py",
   "mimetype": "text/x-python",
   "name": "python",
   "nbconvert_exporter": "python",
   "pygments_lexer": "ipython3",
   "version": "3.8.8"
  },
  "interpreter": {
   "hash": "6e1566eebc1c1be0cd319d6a0d9b35248b6256674f9d8a85f0e918d1ebc9692f"
  }
 },
 "nbformat": 4,
 "nbformat_minor": 4
}